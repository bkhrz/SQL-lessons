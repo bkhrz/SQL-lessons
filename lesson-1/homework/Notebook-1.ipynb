{
    "metadata": {
        "kernelspec": {
            "name": "SQL",
            "display_name": "SQL",
            "language": "sql"
        },
        "language_info": {
            "name": "sql",
            "version": ""
        }
    },
    "nbformat_minor": 2,
    "nbformat": 4,
    "cells": [
        {
            "cell_type": "markdown",
            "source": [
                "Task 1"
            ],
            "metadata": {
                "azdata_cell_guid": "0d755355-2e58-46fe-9ab1-8451c2af10f4"
            },
            "attachments": {}
        },
        {
            "cell_type": "code",
            "source": [
                "USE Homeworks\n",
                "CREATE TABLE students(\n",
                "    id INT,\n",
                "    name VARCHAR(50),\n",
                "    age  INT\n",
                ");      "
            ],
            "metadata": {
                "azdata_cell_guid": "9b94fe1c-f23e-4ec5-8dd2-88daafce8068",
                "language": "sql",
                "tags": []
            },
            "outputs": [
                {
                    "output_type": "display_data",
                    "data": {
                        "text/html": "Commands completed successfully."
                    },
                    "metadata": {}
                },
                {
                    "output_type": "display_data",
                    "data": {
                        "text/html": "Total execution time: 00:00:00.007"
                    },
                    "metadata": {}
                }
            ],
            "execution_count": 27
        },
        {
            "cell_type": "code",
            "source": [
                "ALTER TABLE students ALTER COLUMN id INT NOT NULL;"
            ],
            "metadata": {
                "azdata_cell_guid": "92256f1f-ec0a-477f-bfe5-12b0fa73fb62",
                "language": "sql"
            },
            "outputs": [
                {
                    "output_type": "display_data",
                    "data": {
                        "text/html": "Commands completed successfully."
                    },
                    "metadata": {}
                },
                {
                    "output_type": "display_data",
                    "data": {
                        "text/html": "Total execution time: 00:00:00.010"
                    },
                    "metadata": {}
                }
            ],
            "execution_count": 28
        },
        {
            "cell_type": "markdown",
            "source": [
                "Task 2"
            ],
            "metadata": {
                "azdata_cell_guid": "c46716a4-e717-416b-9733-a1922e936b81"
            },
            "attachments": {}
        },
        {
            "cell_type": "code",
            "source": [
                "CREATE TABLE product(\n",
                "    product_id INT UNIQUE,\n",
                "    product_name VARCHAR(255),\n",
                "    price DECIMAL\n",
                ");"
            ],
            "metadata": {
                "azdata_cell_guid": "7d528d30-e8a9-4dfe-9427-6a9303401565",
                "language": "sql"
            },
            "outputs": [
                {
                    "output_type": "display_data",
                    "data": {
                        "text/html": "Commands completed successfully."
                    },
                    "metadata": {}
                },
                {
                    "output_type": "display_data",
                    "data": {
                        "text/html": "Total execution time: 00:00:00.007"
                    },
                    "metadata": {}
                }
            ],
            "execution_count": 29
        },
        {
            "cell_type": "code",
            "source": [
                "ALTER TABLE product DROP CONSTRAINT UQ__product__47027DF4A19B121F;"
            ],
            "metadata": {
                "language": "sql",
                "azdata_cell_guid": "b3e4f126-a378-492d-b889-c73226ab3d57",
                "tags": []
            },
            "outputs": [
                {
                    "output_type": "error",
                    "evalue": "Msg 3728, Level 16, State 1, Line 1\n'UQ__product__47027DF4A19B121F' is not a constraint.",
                    "ename": "",
                    "traceback": []
                },
                {
                    "output_type": "error",
                    "evalue": "Msg 3727, Level 16, State 0, Line 1\nCould not drop constraint. See previous errors.",
                    "ename": "",
                    "traceback": []
                },
                {
                    "output_type": "display_data",
                    "data": {
                        "text/html": "Total execution time: 00:00:00.016"
                    },
                    "metadata": {}
                }
            ],
            "execution_count": 30
        },
        {
            "cell_type": "code",
            "source": [
                "ALTER TABLE product ADD UNIQUE(product_id, product_name)"
            ],
            "metadata": {
                "language": "sql",
                "azdata_cell_guid": "b5282daf-2135-4596-afe3-16efab308b5e"
            },
            "outputs": [
                {
                    "output_type": "display_data",
                    "data": {
                        "text/html": "Commands completed successfully."
                    },
                    "metadata": {}
                },
                {
                    "output_type": "display_data",
                    "data": {
                        "text/html": "Total execution time: 00:00:00.025"
                    },
                    "metadata": {}
                }
            ],
            "execution_count": 6
        },
        {
            "cell_type": "markdown",
            "source": [
                "Task 3"
            ],
            "metadata": {
                "language": "sql",
                "azdata_cell_guid": "082a15b3-1edf-43a2-b692-f0cb07ee2f05"
            },
            "attachments": {}
        },
        {
            "cell_type": "code",
            "source": [
                "CREATE TABLE orders(\n",
                "    order_id INT PRIMARY KEY,\n",
                "    customer_name VARCHAR(50),\n",
                "    order_date DATE\n",
                ")"
            ],
            "metadata": {
                "language": "sql",
                "azdata_cell_guid": "f1734145-127f-48b1-98b4-f889f62adf0a"
            },
            "outputs": [
                {
                    "output_type": "display_data",
                    "data": {
                        "text/html": "Commands completed successfully."
                    },
                    "metadata": {}
                },
                {
                    "output_type": "display_data",
                    "data": {
                        "text/html": "Total execution time: 00:00:00.011"
                    },
                    "metadata": {}
                }
            ],
            "execution_count": 31
        },
        {
            "cell_type": "code",
            "source": [
                "ALTER TABLE orders DROP CONSTRAINT PK__orders__46596229A6F5DB97 WITH (ONLINE = OFF);"
            ],
            "metadata": {
                "language": "sql",
                "azdata_cell_guid": "08818ad5-bd4e-469a-b106-78df5ae1d664"
            },
            "outputs": [
                {
                    "output_type": "display_data",
                    "data": {
                        "text/html": "Commands completed successfully."
                    },
                    "metadata": {}
                },
                {
                    "output_type": "display_data",
                    "data": {
                        "text/html": "Total execution time: 00:00:00.013"
                    },
                    "metadata": {}
                }
            ],
            "execution_count": 34
        },
        {
            "cell_type": "code",
            "source": [
                "ALTER TABLE orders ADD PRIMARY KEY(order_id)"
            ],
            "metadata": {
                "language": "sql",
                "azdata_cell_guid": "e34def4f-900d-4677-9b51-8917cc1d52cd"
            },
            "outputs": [
                {
                    "output_type": "display_data",
                    "data": {
                        "text/html": "Commands completed successfully."
                    },
                    "metadata": {}
                },
                {
                    "output_type": "display_data",
                    "data": {
                        "text/html": "Total execution time: 00:00:00.008"
                    },
                    "metadata": {}
                }
            ],
            "execution_count": 35
        },
        {
            "cell_type": "markdown",
            "source": [
                "Task 4"
            ],
            "metadata": {
                "language": "sql",
                "azdata_cell_guid": "3262962a-db0e-4d98-bcd6-edaa2358c29c"
            },
            "attachments": {}
        },
        {
            "cell_type": "code",
            "source": [
                "CREATE TABLE category(\n",
                "    category_id INT PRIMARY KEY, \n",
                "    category_name VARCHAR(50)\n",
                ");\n",
                "\n",
                "CREATE TABLE item(\n",
                "    item_ID INT PRIMARY KEY,\n",
                "    item_name VARCHAR(255), \n",
                "    category_id INT FOREIGN KEY REFERENCES category(category_id)\n",
                ");"
            ],
            "metadata": {
                "language": "sql",
                "azdata_cell_guid": "e1847687-a132-4b47-80e4-f5317d7a19b3"
            },
            "outputs": [
                {
                    "output_type": "display_data",
                    "data": {
                        "text/html": "Commands completed successfully."
                    },
                    "metadata": {}
                },
                {
                    "output_type": "display_data",
                    "data": {
                        "text/html": "Total execution time: 00:00:00.026"
                    },
                    "metadata": {}
                }
            ],
            "execution_count": 36
        },
        {
            "cell_type": "code",
            "source": [
                "ALTER TABLE item DROP CONSTRAINT FK__item__category_i__4F7CD00D;\n",
                "ALTER TABLE item WITH CHECK ADD FOREIGN KEY(category_id) REFERENCES category(category_id)"
            ],
            "metadata": {
                "language": "sql",
                "azdata_cell_guid": "2808f081-2e15-4114-9097-2da873478f5d"
            },
            "outputs": [
                {
                    "output_type": "display_data",
                    "data": {
                        "text/html": "Commands completed successfully."
                    },
                    "metadata": {}
                },
                {
                    "output_type": "display_data",
                    "data": {
                        "text/html": "Total execution time: 00:00:00.021"
                    },
                    "metadata": {}
                }
            ],
            "execution_count": 37
        },
        {
            "cell_type": "markdown",
            "source": [
                "Task 5"
            ],
            "metadata": {
                "language": "sql",
                "azdata_cell_guid": "7f7e4568-6beb-422d-aef2-5a028df5d65a"
            },
            "attachments": {}
        },
        {
            "cell_type": "code",
            "source": [
                "drop table if exists account;\n",
                "CREATE TABLE account(\n",
                "    account_id INT PRIMARY KEY, \n",
                "    balance DECIMAL CHECK(BALANCE >= 0 ),\n",
                "    account_type VARCHAR(25) CHECK(account_type in ('Saving' , 'Checking'))\n",
                ");"
            ],
            "metadata": {
                "language": "sql",
                "azdata_cell_guid": "956afead-1c09-4c50-ba52-88580718d73b"
            },
            "outputs": [
                {
                    "output_type": "display_data",
                    "data": {
                        "text/html": "Commands completed successfully."
                    },
                    "metadata": {}
                },
                {
                    "output_type": "display_data",
                    "data": {
                        "text/html": "Total execution time: 00:00:00.053"
                    },
                    "metadata": {}
                }
            ],
            "execution_count": 47
        },
        {
            "cell_type": "code",
            "source": [
                "ALTER TABLE account DROP CONSTRAINT CK__account__account__59063A47;\n",
                "ALTER TABLE account DROP CONSTRAINT CK__account__balance__5812160E;"
            ],
            "metadata": {
                "language": "sql",
                "azdata_cell_guid": "10b6a327-5f53-4764-acf5-751f3dae4024"
            },
            "outputs": [
                {
                    "output_type": "display_data",
                    "data": {
                        "text/html": "Commands completed successfully."
                    },
                    "metadata": {}
                },
                {
                    "output_type": "display_data",
                    "data": {
                        "text/html": "Total execution time: 00:00:00.044"
                    },
                    "metadata": {}
                }
            ],
            "execution_count": 48
        },
        {
            "cell_type": "code",
            "source": [
                "ALTER TABLE account ADD CONSTRAINT CK_balance CHECK(balance >= 0)\n",
                "ALTER TABLE account ADD CONSTRAINT CK_type CHECK(account_type in ('Saving', 'Checking'));"
            ],
            "metadata": {
                "language": "sql",
                "azdata_cell_guid": "3faec025-7638-44eb-a2c7-88ddb95c96bd"
            },
            "outputs": [
                {
                    "output_type": "display_data",
                    "data": {
                        "text/html": "Commands completed successfully."
                    },
                    "metadata": {}
                },
                {
                    "output_type": "display_data",
                    "data": {
                        "text/html": "Total execution time: 00:00:00.021"
                    },
                    "metadata": {}
                }
            ],
            "execution_count": 49
        },
        {
            "cell_type": "markdown",
            "source": [
                "Task 6"
            ],
            "metadata": {
                "language": "sql",
                "azdata_cell_guid": "70341c57-150e-4ced-85ac-fed57fdf3219"
            },
            "attachments": {}
        },
        {
            "cell_type": "code",
            "source": [
                "CREATE TABLE customer(\n",
                "    customer_id INT PRIMARY KEY, \n",
                "    name VARCHAR(50),\n",
                "    city VARCHAR(255) DEFAULT 'Unknown'\n",
                ")"
            ],
            "metadata": {
                "language": "sql",
                "azdata_cell_guid": "453e89c8-8891-4e89-a4c5-a555d4d7fdc6"
            },
            "outputs": [
                {
                    "output_type": "display_data",
                    "data": {
                        "text/html": "Commands completed successfully."
                    },
                    "metadata": {}
                },
                {
                    "output_type": "display_data",
                    "data": {
                        "text/html": "Total execution time: 00:00:00.019"
                    },
                    "metadata": {}
                }
            ],
            "execution_count": 50
        },
        {
            "cell_type": "code",
            "source": [
                "ALTER TABLE customer DROP CONSTRAINT df__CUSTOMER__CITY__5DCAEF64;"
            ],
            "metadata": {
                "language": "sql",
                "azdata_cell_guid": "8f382ab5-e228-4038-aa86-ca6bde22c4e5"
            },
            "outputs": [
                {
                    "output_type": "display_data",
                    "data": {
                        "text/html": "Commands completed successfully."
                    },
                    "metadata": {}
                },
                {
                    "output_type": "display_data",
                    "data": {
                        "text/html": "Total execution time: 00:00:00.010"
                    },
                    "metadata": {}
                }
            ],
            "execution_count": 51
        },
        {
            "cell_type": "code",
            "source": [
                "ALTER TABLE customer ADD CONSTRAINT DF_city DEFAULT 'Unknown' for city;"
            ],
            "metadata": {
                "language": "sql",
                "azdata_cell_guid": "3a39d0a9-390b-4f5c-8515-1d97714db8e4"
            },
            "outputs": [
                {
                    "output_type": "display_data",
                    "data": {
                        "text/html": "Commands completed successfully."
                    },
                    "metadata": {}
                },
                {
                    "output_type": "display_data",
                    "data": {
                        "text/html": "Total execution time: 00:00:00.013"
                    },
                    "metadata": {}
                }
            ],
            "execution_count": 55
        },
        {
            "cell_type": "markdown",
            "source": [
                "Task 7"
            ],
            "metadata": {
                "language": "sql",
                "azdata_cell_guid": "726eee95-f32b-449b-8aef-110a08b95145"
            },
            "attachments": {}
        },
        {
            "cell_type": "code",
            "source": [
                "CREATE TABLE invoice(\n",
                "    invoice_id INT PRIMARY KEY IDENTITY,\n",
                "    amount DECIMAL\n",
                ")"
            ],
            "metadata": {
                "language": "sql",
                "azdata_cell_guid": "1a72c838-f11d-49ee-9a46-f803a574667f"
            },
            "outputs": [
                {
                    "output_type": "display_data",
                    "data": {
                        "text/html": "Commands completed successfully."
                    },
                    "metadata": {}
                },
                {
                    "output_type": "display_data",
                    "data": {
                        "text/html": "Total execution time: 00:00:00.015"
                    },
                    "metadata": {}
                }
            ],
            "execution_count": 56
        },
        {
            "cell_type": "code",
            "source": [
                "INSERT INTO invoice (amount) VALUES (100.50);\n",
                "INSERT INTO invoice (amount) VALUES (200.00);\n",
                "INSERT INTO invoice (amount) VALUES (150.75);\n",
                "INSERT INTO invoice (amount) VALUES (180.20);\n",
                "INSERT INTO invoice (amount) VALUES (300.00);"
            ],
            "metadata": {
                "language": "sql",
                "azdata_cell_guid": "316f11e4-194c-4819-881c-aa79d3e2b3aa"
            },
            "outputs": [
                {
                    "output_type": "display_data",
                    "data": {
                        "text/html": "(1 row affected)"
                    },
                    "metadata": {}
                },
                {
                    "output_type": "display_data",
                    "data": {
                        "text/html": "(1 row affected)"
                    },
                    "metadata": {}
                },
                {
                    "output_type": "display_data",
                    "data": {
                        "text/html": "(1 row affected)"
                    },
                    "metadata": {}
                },
                {
                    "output_type": "display_data",
                    "data": {
                        "text/html": "(1 row affected)"
                    },
                    "metadata": {}
                },
                {
                    "output_type": "display_data",
                    "data": {
                        "text/html": "(1 row affected)"
                    },
                    "metadata": {}
                },
                {
                    "output_type": "display_data",
                    "data": {
                        "text/html": "Total execution time: 00:00:00.033"
                    },
                    "metadata": {}
                }
            ],
            "execution_count": 62
        },
        {
            "cell_type": "code",
            "source": [
                "SET IDENTITY_INSERT INVOICE ON\n",
                "INSERT INTO invoice(invoice_id, amount) values(\n",
                "    104, 12342\n",
                ")\n",
                "SET IDENTITY_INSERT invoice OFF"
            ],
            "metadata": {
                "language": "sql",
                "azdata_cell_guid": "10ec5e5d-3527-44ff-b730-a4e38a58daa6"
            },
            "outputs": [
                {
                    "output_type": "display_data",
                    "data": {
                        "text/html": "(1 row affected)"
                    },
                    "metadata": {}
                },
                {
                    "output_type": "display_data",
                    "data": {
                        "text/html": "Total execution time: 00:00:00.005"
                    },
                    "metadata": {}
                }
            ],
            "execution_count": 69
        },
        {
            "cell_type": "markdown",
            "source": [
                "task 8"
            ],
            "metadata": {
                "azdata_cell_guid": "c241885a-450a-4737-8570-a3e966943cb4"
            },
            "attachments": {}
        },
        {
            "cell_type": "code",
            "source": [
                "drop table if exists books\n",
                "\n",
                "create table books(\n",
                "    book_id INT PRIMARY KEY IDENTITY,\n",
                "    title VARCHAR(255) NOT NULL CHECK(title <> ''), \n",
                "    price DECIMAL(10, 2) CHECK(price > 0),\n",
                "    genre VARCHAR(255) DEFAULT 'Unknown'\n",
                ")"
            ],
            "metadata": {
                "azdata_cell_guid": "422470dd-16e0-479b-9550-aa0b4f1e9835",
                "language": "sql"
            },
            "outputs": [
                {
                    "output_type": "display_data",
                    "data": {
                        "text/html": "Commands completed successfully."
                    },
                    "metadata": {}
                },
                {
                    "output_type": "display_data",
                    "data": {
                        "text/html": "Total execution time: 00:00:00.022"
                    },
                    "metadata": {}
                }
            ],
            "execution_count": 80
        }
    ]
}